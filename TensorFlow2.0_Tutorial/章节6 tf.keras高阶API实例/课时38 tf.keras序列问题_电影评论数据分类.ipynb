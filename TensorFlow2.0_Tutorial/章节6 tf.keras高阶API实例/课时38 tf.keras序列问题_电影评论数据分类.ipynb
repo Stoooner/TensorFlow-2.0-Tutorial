{
 "cells": [
  {
   "cell_type": "markdown",
   "metadata": {},
   "source": [
    "# 课时38 tf.keras序列问题_电影评论数据分类"
   ]
  },
  {
   "cell_type": "code",
   "execution_count": 21,
   "metadata": {},
   "outputs": [
    {
     "name": "stdout",
     "output_type": "stream",
     "text": [
      "Tensorflow Version: 2.0.0\n"
     ]
    }
   ],
   "source": [
    "import pandas as pd\n",
    "import numpy as np\n",
    "import seaborn as sb\n",
    "sb.set_style('darkgrid')\n",
    "# pathlib相比os.path更好用\n",
    "import pathlib\n",
    "import random\n",
    "import matplotlib.pyplot as plt\n",
    "import tensorflow as tf\n",
    "print('Tensorflow Version:', tf.__version__)"
   ]
  },
  {
   "cell_type": "markdown",
   "metadata": {},
   "source": [
    "# 1. 导入电影评论数据"
   ]
  },
  {
   "cell_type": "code",
   "execution_count": 22,
   "metadata": {},
   "outputs": [
    {
     "data": {
      "text/plain": [
       "((25000,), (25000,))"
      ]
     },
     "execution_count": 22,
     "metadata": {},
     "output_type": "execute_result"
    }
   ],
   "source": [
    "# 导入IMDB电影评论数据，由于数据集中的词典非常庞大，所以这个规定num_words=10000，也就是考虑前10000个单词，超过这个数目的单词就不再考虑了\n",
    "(x_train, y_train), (x_test, y_test) = tf.keras.datasets.imdb.load_data(num_words=10000)\n",
    "x_train.shape, y_train.shape"
   ]
  },
  {
   "cell_type": "code",
   "execution_count": 23,
   "metadata": {},
   "outputs": [],
   "source": [
    "# 这里将文本训练成密集向量(先将每条文本填充到固定长度)\n",
    "x_train = tf.keras.preprocessing.sequence.pad_sequences(x_train, 300)\n",
    "x_test = tf.keras.preprocessing.sequence.pad_sequences(x_test, 300)"
   ]
  },
  {
   "cell_type": "markdown",
   "metadata": {},
   "source": [
    "# 2. 建立模型"
   ]
  },
  {
   "cell_type": "code",
   "execution_count": 9,
   "metadata": {},
   "outputs": [
    {
     "name": "stdout",
     "output_type": "stream",
     "text": [
      "Model: \"sequential_1\"\n",
      "_________________________________________________________________\n",
      "Layer (type)                 Output Shape              Param #   \n",
      "=================================================================\n",
      "embedding_1 (Embedding)      (None, 300, 50)           500000    \n",
      "_________________________________________________________________\n",
      "flatten (Flatten)            (None, 15000)             0         \n",
      "_________________________________________________________________\n",
      "dense (Dense)                (None, 128)               1920128   \n",
      "_________________________________________________________________\n",
      "dense_1 (Dense)              (None, 1)                 129       \n",
      "=================================================================\n",
      "Total params: 2,420,257\n",
      "Trainable params: 2,420,257\n",
      "Non-trainable params: 0\n",
      "_________________________________________________________________\n"
     ]
    }
   ],
   "source": [
    "model = tf.keras.Sequential([\n",
    "    # 将数据集映射成密集向量\n",
    "    tf.keras.layers.Embedding(input_dim=10000, output_dim=50, input_length=300),\n",
    "    tf.keras.layers.Flatten(),\n",
    "    tf.keras.layers.Dense(units=128, activation='relu'),\n",
    "    tf.keras.layers.Dense(units=1, activation='sigmoid')\n",
    "])\n",
    "model.summary()"
   ]
  },
  {
   "cell_type": "code",
   "execution_count": 13,
   "metadata": {},
   "outputs": [
    {
     "name": "stdout",
     "output_type": "stream",
     "text": [
      "Train on 25000 samples, validate on 25000 samples\n",
      "Epoch 1/5\n",
      "25000/25000 [==============================] - 7s 293us/sample - loss: 8.2723e-06 - acc: 1.0000 - val_loss: 6.6618 - val_acc: 0.4989\n",
      "Epoch 2/5\n",
      "25000/25000 [==============================] - 7s 287us/sample - loss: 1.1275e-06 - acc: 1.0000 - val_loss: 7.0420 - val_acc: 0.4986\n",
      "Epoch 3/5\n",
      "25000/25000 [==============================] - 7s 289us/sample - loss: 5.0581e-07 - acc: 1.0000 - val_loss: 7.2730 - val_acc: 0.4982\n",
      "Epoch 4/5\n",
      "25000/25000 [==============================] - 7s 292us/sample - loss: 3.2612e-07 - acc: 1.0000 - val_loss: 7.4496 - val_acc: 0.4985\n",
      "Epoch 5/5\n",
      "25000/25000 [==============================] - 7s 292us/sample - loss: 2.3186e-07 - acc: 1.0000 - val_loss: 7.5947 - val_acc: 0.4984\n"
     ]
    }
   ],
   "source": [
    "model.compile(optimizer=tf.keras.optimizers.Adam(learning_rate=0.001),\n",
    "              loss='binary_crossentropy',\n",
    "              metrics=['acc'])\n",
    "history = model.fit(x_train, y_train, epochs=5, batch_size=256, validation_data=(x_test, y_train))"
   ]
  },
  {
   "cell_type": "code",
   "execution_count": 14,
   "metadata": {},
   "outputs": [
    {
     "data": {
      "text/plain": [
       "dict_keys(['loss', 'acc', 'val_loss', 'val_acc'])"
      ]
     },
     "execution_count": 14,
     "metadata": {},
     "output_type": "execute_result"
    }
   ],
   "source": [
    "history.history.keys()"
   ]
  },
  {
   "cell_type": "code",
   "execution_count": 15,
   "metadata": {},
   "outputs": [
    {
     "data": {
      "text/plain": [
       "[<matplotlib.lines.Line2D at 0x1e557370a08>]"
      ]
     },
     "execution_count": 15,
     "metadata": {},
     "output_type": "execute_result"
    },
    {
     "data": {
      "image/png": "[encoded data removed]",
      "text/plain": [
       "<Figure size 432x288 with 1 Axes>"
      ]
     },
     "metadata": {},
     "output_type": "display_data"
    }
   ],
   "source": [
    "plt.plot(history.epoch, history.history.get('acc'), label='train_acc')\n",
    "plt.plot(history.epoch, history.history.get('val_acc'), label='val_acc')"
   ]
  },
  {
   "cell_type": "code",
   "execution_count": 16,
   "metadata": {},
   "outputs": [
    {
     "data": {
      "text/plain": [
       "[<matplotlib.lines.Line2D at 0x1e55ca13248>]"
      ]
     },
     "execution_count": 16,
     "metadata": {},
     "output_type": "execute_result"
    },
    {
     "data": {
      "image/png": "[encoded data removed]",
      "text/plain": [
       "<Figure size 432x288 with 1 Axes>"
      ]
     },
     "metadata": {},
     "output_type": "display_data"
    }
   ],
   "source": [
    "plt.plot(history.epoch, history.history.get('loss'), label='train_loss')\n",
    "plt.plot(history.epoch, history.history.get('val_loss'), label='val_loss')"
   ]
  },
  {
   "cell_type": "markdown",
   "metadata": {},
   "source": [
    "# 3. 解决模型过拟合问题"
   ]
  },
  {
   "cell_type": "code",
   "execution_count": 24,
   "metadata": {},
   "outputs": [
    {
     "name": "stdout",
     "output_type": "stream",
     "text": [
      "Model: \"sequential_4\"\n",
      "_________________________________________________________________\n",
      "Layer (type)                 Output Shape              Param #   \n",
      "=================================================================\n",
      "embedding_4 (Embedding)      (None, 300, 50)           500000    \n",
      "_________________________________________________________________\n",
      "flatten_3 (Flatten)          (None, 15000)             0         \n",
      "_________________________________________________________________\n",
      "dense_6 (Dense)              (None, 128)               1920128   \n",
      "_________________________________________________________________\n",
      "dropout_2 (Dropout)          (None, 128)               0         \n",
      "_________________________________________________________________\n",
      "dense_7 (Dense)              (None, 1)                 129       \n",
      "=================================================================\n",
      "Total params: 2,420,257\n",
      "Trainable params: 2,420,257\n",
      "Non-trainable params: 0\n",
      "_________________________________________________________________\n"
     ]
    }
   ],
   "source": [
    "model = tf.keras.Sequential([\n",
    "    # 将数据集映射成密集向量\n",
    "    tf.keras.layers.Embedding(input_dim=10000, output_dim=50, input_length=300),\n",
    "    tf.keras.layers.Flatten(),\n",
    "    tf.keras.layers.Dense(units=128, activation='relu'),\n",
    "    tf.keras.layers.Dropout(rate=0.5),\n",
    "    tf.keras.layers.Dense(units=1, activation='sigmoid')\n",
    "])\n",
    "model.summary()"
   ]
  },
  {
   "cell_type": "code",
   "execution_count": 25,
   "metadata": {},
   "outputs": [
    {
     "name": "stdout",
     "output_type": "stream",
     "text": [
      "Train on 25000 samples, validate on 25000 samples\n",
      "Epoch 1/5\n",
      "25000/25000 [==============================] - 8s 323us/sample - loss: 0.5350 - acc: 0.7060 - val_loss: 1.3844 - val_acc: 0.4961\n",
      "Epoch 2/5\n",
      "25000/25000 [==============================] - 8s 308us/sample - loss: 0.1900 - acc: 0.9290 - val_loss: 1.7653 - val_acc: 0.4970\n",
      "Epoch 3/5\n",
      "25000/25000 [==============================] - 8s 308us/sample - loss: 0.0553 - acc: 0.9872 - val_loss: 2.4426 - val_acc: 0.4983\n",
      "Epoch 4/5\n",
      "25000/25000 [==============================] - 8s 305us/sample - loss: 0.0137 - acc: 0.9987 - val_loss: 2.9205 - val_acc: 0.4988\n",
      "Epoch 5/5\n",
      "25000/25000 [==============================] - 8s 306us/sample - loss: 0.0044 - acc: 0.9999 - val_loss: 3.3753 - val_acc: 0.4985\n"
     ]
    }
   ],
   "source": [
    "model.compile(optimizer=tf.keras.optimizers.Adam(learning_rate=0.001),\n",
    "              loss='binary_crossentropy',\n",
    "              metrics=['acc'])\n",
    "history = model.fit(x_train, y_train, epochs=5, batch_size=256, validation_data=(x_test, y_train))"
   ]
  }
 ],
 "metadata": {
  "kernelspec": {
   "display_name": "Python 3",
   "language": "python",
   "name": "python3"
  },
  "language_info": {
   "codemirror_mode": {
    "name": "ipython",
    "version": 3
   },
   "file_extension": ".py",
   "mimetype": "text/x-python",
   "name": "python",
   "nbconvert_exporter": "python",
   "pygments_lexer": "ipython3",
   "version": "3.7.4"
  }
 },
 "nbformat": 4,
 "nbformat_minor": 4
}
