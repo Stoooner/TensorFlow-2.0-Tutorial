{
 "cells": [
  {
   "cell_type": "markdown",
   "metadata": {},
   "source": [
    "# 课时20 tf.keras函数式API"
   ]
  },
  {
   "cell_type": "code",
   "execution_count": 2,
   "metadata": {},
   "outputs": [
    {
     "name": "stdout",
     "output_type": "stream",
     "text": [
      "Tensorflow Version: 2.0.0\n"
     ]
    }
   ],
   "source": [
    "import pandas as pd\n",
    "import numpy as np\n",
    "import seaborn as sb\n",
    "sb.set_style('darkgrid')\n",
    "import matplotlib.pyplot as plt\n",
    "import tensorflow as tf\n",
    "from tensorflow import keras\n",
    "print('Tensorflow Version:', tf.__version__)"
   ]
  },
  {
   "cell_type": "markdown",
   "metadata": {},
   "source": [
    "# 1. 加载和处理fashion_mnist数据集"
   ]
  },
  {
   "cell_type": "code",
   "execution_count": 3,
   "metadata": {},
   "outputs": [],
   "source": [
    "# 加载fashion_mnist数据集\n",
    "fashion_mnist = tf.keras.datasets.fashion_mnist.load_data()\n",
    "# 将数据集划分训练集和测试集\n",
    "(train_image, train_label), (test_image, test_label) = fashion_mnist\n",
    "# 对于训练数据和测试数据的图片进行归一化：\n",
    "train_image = train_image / 255\n",
    "test_image = test_image / 255"
   ]
  },
  {
   "cell_type": "markdown",
   "metadata": {},
   "source": [
    "# 2. 函数式API"
   ]
  },
  {
   "cell_type": "code",
   "execution_count": 5,
   "metadata": {},
   "outputs": [
    {
     "name": "stdout",
     "output_type": "stream",
     "text": [
      "Model: \"model\"\n",
      "_________________________________________________________________\n",
      "Layer (type)                 Output Shape              Param #   \n",
      "=================================================================\n",
      "input_2 (InputLayer)         [(None, 28, 28)]          0         \n",
      "_________________________________________________________________\n",
      "flatten_1 (Flatten)          (None, 784)               0         \n",
      "_________________________________________________________________\n",
      "dense (Dense)                (None, 32)                25120     \n",
      "_________________________________________________________________\n",
      "dropout (Dropout)            (None, 32)                0         \n",
      "_________________________________________________________________\n",
      "dense_1 (Dense)              (None, 64)                2112      \n",
      "_________________________________________________________________\n",
      "dense_2 (Dense)              (None, 10)                650       \n",
      "=================================================================\n",
      "Total params: 27,882\n",
      "Trainable params: 27,882\n",
      "Non-trainable params: 0\n",
      "_________________________________________________________________\n"
     ]
    }
   ],
   "source": [
    "# 函数式API的灵活性更好，对于需要自己DIY的某个特殊组件，可以使用函数式API的方式实现\n",
    "# 或者对于多输入多输出模型更好实现\n",
    "input = tf.keras.Input(shape=(28, 28))\n",
    "# 这里可以将Flatten()看做是一个函数，则input就是这个函数的输入\n",
    "x = tf.keras.layers.Flatten()(input)\n",
    "# 每一层都可以随意的调用某个函数，然后输入制定的数据即可\n",
    "x = tf.keras.layers.Dense(units=32, activation='relu')(x)\n",
    "x = tf.keras.layers.Dropout(rate=0.5)(x)\n",
    "x = tf.keras.layers.Dense(units=64, activation='relu')(x)\n",
    "output = tf.keras.layers.Dense(units=10,  activation='softmax')(x)\n",
    "# 将上面的组件搭建起来组合成一个模型\n",
    "model = tf.keras.Model(inputs=input, outputs=output)\n",
    "model.summary()"
   ]
  },
  {
   "cell_type": "code",
   "execution_count": 8,
   "metadata": {},
   "outputs": [
    {
     "name": "stdout",
     "output_type": "stream",
     "text": [
      "Train on 60000 samples, validate on 10000 samples\n",
      "Epoch 1/5\n",
      "60000/60000 [==============================] - 3s 53us/sample - loss: 0.8268 - acc: 0.6927 - val_loss: 0.5705 - val_acc: 0.7730\n",
      "Epoch 2/5\n",
      "60000/60000 [==============================] - 3s 52us/sample - loss: 0.6347 - acc: 0.7642 - val_loss: 0.5206 - val_acc: 0.7964\n",
      "Epoch 3/5\n",
      "60000/60000 [==============================] - 3s 53us/sample - loss: 0.5870 - acc: 0.7829 - val_loss: 0.4993 - val_acc: 0.8191\n",
      "Epoch 4/5\n",
      "60000/60000 [==============================] - 3s 56us/sample - loss: 0.5629 - acc: 0.7914 - val_loss: 0.5837 - val_acc: 0.7698\n",
      "Epoch 5/5\n",
      "60000/60000 [==============================] - 4s 61us/sample - loss: 0.5467 - acc: 0.7994 - val_loss: 0.5555 - val_acc: 0.7887\n"
     ]
    }
   ],
   "source": [
    "model.compile(tf.keras.optimizers.Adam(learning_rate=0.001),\n",
    "              loss='sparse_categorical_crossentropy', \n",
    "              metrics=['acc'])\n",
    "# 训练时添加交叉验证集validation_data\n",
    "history = model.fit(train_image, train_label, epochs=5, \n",
    "                    validation_data=(test_image, test_label))"
   ]
  }
 ],
 "metadata": {
  "kernelspec": {
   "display_name": "Python 3",
   "language": "python",
   "name": "python3"
  },
  "language_info": {
   "codemirror_mode": {
    "name": "ipython",
    "version": 3
   },
   "file_extension": ".py",
   "mimetype": "text/x-python",
   "name": "python",
   "nbconvert_exporter": "python",
   "pygments_lexer": "ipython3",
   "version": "3.7.4"
  }
 },
 "nbformat": 4,
 "nbformat_minor": 4
}
