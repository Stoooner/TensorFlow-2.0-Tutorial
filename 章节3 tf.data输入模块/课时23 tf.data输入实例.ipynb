{
 "cells": [
  {
   "cell_type": "markdown",
   "metadata": {},
   "source": [
    "# 课时23 tf.data输入实例"
   ]
  },
  {
   "cell_type": "code",
   "execution_count": 1,
   "metadata": {},
   "outputs": [
    {
     "output_type": "stream",
     "name": "stdout",
     "text": [
      "Tensorflow Version: 2.4.0\n"
     ]
    }
   ],
   "source": [
    "import pandas as pd\n",
    "import numpy as np\n",
    "import seaborn as sb\n",
    "sb.set_style('darkgrid')\n",
    "import matplotlib.pyplot as plt\n",
    "import tensorflow as tf\n",
    "print('Tensorflow Version:', tf.__version__)"
   ]
  },
  {
   "cell_type": "markdown",
   "metadata": {},
   "source": [
    "## 1. 加载mnist数据集并进行处理"
   ]
  },
  {
   "cell_type": "code",
   "execution_count": 2,
   "metadata": {},
   "outputs": [],
   "source": [
    "(train_images, train_labels), (test_images, test_labels) = tf.keras.datasets.mnist.load_data()\n",
    "train_images = train_images / 255\n",
    "test_images = test_images / 255"
   ]
  },
  {
   "cell_type": "code",
   "execution_count": 6,
   "metadata": {},
   "outputs": [
    {
     "output_type": "execute_result",
     "data": {
      "text/plain": [
       "<ZipDataset shapes: ((28, 28), ()), types: (tf.float64, tf.uint8)>"
      ]
     },
     "metadata": {},
     "execution_count": 6
    }
   ],
   "source": [
    "dataset_train_images = tf.data.Dataset.from_tensor_slices(train_images)\n",
    "dataset_train_labels = tf.data.Dataset.from_tensor_slices(train_labels)\n",
    "# zip函数将image和label对应起来，传入的是一个元祖\n",
    "dataset_train = tf.data.Dataset.zip((dataset_train_images, dataset_train_labels))\n",
    "dataset_train"
   ]
  },
  {
   "cell_type": "code",
   "execution_count": 7,
   "metadata": {},
   "outputs": [],
   "source": [
    "# 也可以直接将test数据集的图片和标签通过from_tensor_slices转换为Dataset，而不用一个一个的转换再zip。\n",
    "dataset_test = tf.data.Dataset.from_tensor_slices((test_images, test_labels))\n",
    "dataset_test = dataset_test.batch(batch_size=64)"
   ]
  },
  {
   "cell_type": "markdown",
   "metadata": {},
   "source": [
    "## 2. 对数据进行打乱"
   ]
  },
  {
   "cell_type": "code",
   "execution_count": 8,
   "metadata": {},
   "outputs": [],
   "source": [
    "# 取出其中的10000个数据进行shuffle\n",
    "dataset_train = dataset_train.shuffle(buffer_size=10000).repeat().batch(batch_size=64)"
   ]
  },
  {
   "cell_type": "markdown",
   "metadata": {},
   "source": [
    "# 3. 建立模型"
   ]
  },
  {
   "cell_type": "code",
   "execution_count": 9,
   "metadata": {},
   "outputs": [
    {
     "output_type": "stream",
     "name": "stdout",
     "text": [
      "Model: \"sequential\"\n",
      "_________________________________________________________________\n",
      "Layer (type)                 Output Shape              Param #   \n",
      "=================================================================\n",
      "flatten (Flatten)            (None, 784)               0         \n",
      "_________________________________________________________________\n",
      "dense (Dense)                (None, 128)               100480    \n",
      "_________________________________________________________________\n",
      "dense_1 (Dense)              (None, 10)                1290      \n",
      "=================================================================\n",
      "Total params: 101,770\n",
      "Trainable params: 101,770\n",
      "Non-trainable params: 0\n",
      "_________________________________________________________________\n",
      "Epoch 1/5\n",
      "937/937 [==============================] - 9s 9ms/step - loss: 0.5130 - accuracy: 0.8586 - val_loss: 0.1610 - val_accuracy: 0.9541\n",
      "Epoch 2/5\n",
      "937/937 [==============================] - 7s 7ms/step - loss: 0.1463 - accuracy: 0.9580 - val_loss: 0.1146 - val_accuracy: 0.9675\n",
      "Epoch 3/5\n",
      "937/937 [==============================] - 6s 6ms/step - loss: 0.0993 - accuracy: 0.9713 - val_loss: 0.0930 - val_accuracy: 0.9711\n",
      "Epoch 4/5\n",
      "937/937 [==============================] - 6s 6ms/step - loss: 0.0699 - accuracy: 0.9793 - val_loss: 0.0947 - val_accuracy: 0.9706\n",
      "Epoch 5/5\n",
      "937/937 [==============================] - 4s 5ms/step - loss: 0.0586 - accuracy: 0.9820 - val_loss: 0.0764 - val_accuracy: 0.9759\n"
     ]
    },
    {
     "output_type": "execute_result",
     "data": {
      "text/plain": [
       "<tensorflow.python.keras.callbacks.History at 0x7f80af87c040>"
      ]
     },
     "metadata": {},
     "execution_count": 9
    }
   ],
   "source": [
    "model = tf.keras.Sequential([\n",
    "    tf.keras.layers.Flatten(input_shape=(28, 28)),\n",
    "    tf.keras.layers.Dense(units=128, activation='relu'),\n",
    "    tf.keras.layers.Dense(units=10, activation='softmax')\n",
    "])\n",
    "model.summary()\n",
    "model.compile(optimizer='adam', loss='sparse_categorical_crossentropy', metrics=['accuracy'])\n",
    "# 每个epoch需要循环的次数：数据总量 / batch_size\n",
    "steps_per_epochs = train_images.shape[0] // 64\n",
    "model.fit(dataset_train, epochs=5, steps_per_epoch=steps_per_epochs,\n",
    "          validation_data=dataset_test, validation_steps=10000//64)"
   ]
  }
 ],
 "metadata": {
  "kernelspec": {
   "name": "python3",
   "display_name": "Python 3.8.5 64-bit ('base': conda)",
   "metadata": {
    "interpreter": {
     "hash": "24a5e97bb7b9e502cdc0a8f9a9ca55a530ba47ae30463d9079b7951f45a334c6"
    }
   }
  },
  "language_info": {
   "codemirror_mode": {
    "name": "ipython",
    "version": 3
   },
   "file_extension": ".py",
   "mimetype": "text/x-python",
   "name": "python",
   "nbconvert_exporter": "python",
   "pygments_lexer": "ipython3",
   "version": "3.8.5-final"
  }
 },
 "nbformat": 4,
 "nbformat_minor": 4
}