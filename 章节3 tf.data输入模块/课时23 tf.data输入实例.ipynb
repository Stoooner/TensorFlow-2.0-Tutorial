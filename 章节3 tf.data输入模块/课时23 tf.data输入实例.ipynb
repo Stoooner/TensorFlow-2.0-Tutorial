{
 "cells": [
  {
   "cell_type": "markdown",
   "metadata": {},
   "source": [
    "# 课时23 tf.data输入实例"
   ]
  },
  {
   "cell_type": "code",
   "execution_count": 93,
   "metadata": {},
   "outputs": [
    {
     "name": "stdout",
     "output_type": "stream",
     "text": [
      "Tensorflow Version: 2.0.0\n"
     ]
    }
   ],
   "source": [
    "import pandas as pd\n",
    "import numpy as np\n",
    "import seaborn as sb\n",
    "sb.set_style('darkgrid')\n",
    "import matplotlib.pyplot as plt\n",
    "import tensorflow as tf\n",
    "print('Tensorflow Version:', tf.__version__)"
   ]
  },
  {
   "cell_type": "markdown",
   "metadata": {},
   "source": [
    "## 1. 加载mnist数据集并进行处理"
   ]
  },
  {
   "cell_type": "code",
   "execution_count": 94,
   "metadata": {},
   "outputs": [],
   "source": [
    "(train_images, train_labels), (test_images, test_labels) = tf.keras.datasets.mnist.load_data()\n",
    "train_images = train_images / 255\n",
    "test_images = test_images / 255"
   ]
  },
  {
   "cell_type": "code",
   "execution_count": 95,
   "metadata": {},
   "outputs": [
    {
     "data": {
      "text/plain": [
       "<ZipDataset shapes: ((28, 28), ()), types: (tf.float64, tf.uint8)>"
      ]
     },
     "execution_count": 95,
     "metadata": {},
     "output_type": "execute_result"
    }
   ],
   "source": [
    "dataset_train_images = tf.data.Dataset.from_tensor_slices(train_images)\n",
    "dataset_train_labels = tf.data.Dataset.from_tensor_slices(train_labels)\n",
    "dataset_train = tf.data.Dataset.zip((dataset_train_images, dataset_train_labels))\n",
    "dataset_train"
   ]
  },
  {
   "cell_type": "code",
   "execution_count": 96,
   "metadata": {},
   "outputs": [],
   "source": [
    "# 可以直接将test数据集的图片和标签通过from_tensor_slices转换为Dataset，而不用一个一个的转换再zip。\n",
    "dataset_test = tf.data.Dataset.from_tensor_slices((test_images, test_labels))\n",
    "dataset_test = dataset_test.batch(batch_size=64)"
   ]
  },
  {
   "cell_type": "markdown",
   "metadata": {},
   "source": [
    "## 2. 对数据进行打乱"
   ]
  },
  {
   "cell_type": "code",
   "execution_count": 97,
   "metadata": {},
   "outputs": [],
   "source": [
    "# 取出其中的10000个数据进行shuffle\n",
    "dataset_train = dataset_train.shuffle(buffer_size=10000).repeat().batch(batch_size=64)"
   ]
  },
  {
   "cell_type": "markdown",
   "metadata": {},
   "source": [
    "# 3. 建立模型"
   ]
  },
  {
   "cell_type": "code",
   "execution_count": 98,
   "metadata": {},
   "outputs": [
    {
     "name": "stdout",
     "output_type": "stream",
     "text": [
      "Model: \"sequential_9\"\n",
      "_________________________________________________________________\n",
      "Layer (type)                 Output Shape              Param #   \n",
      "=================================================================\n",
      "flatten_9 (Flatten)          (None, 784)               0         \n",
      "_________________________________________________________________\n",
      "dense_18 (Dense)             (None, 128)               100480    \n",
      "_________________________________________________________________\n",
      "dense_19 (Dense)             (None, 10)                1290      \n",
      "=================================================================\n",
      "Total params: 101,770\n",
      "Trainable params: 101,770\n",
      "Non-trainable params: 0\n",
      "_________________________________________________________________\n",
      "Train for 937 steps, validate for 156 steps\n",
      "Epoch 1/5\n",
      "937/937 [==============================] - 3s 3ms/step - loss: 0.3021 - accuracy: 0.9156 - val_loss: 0.1633 - val_accuracy: 0.9524\n",
      "Epoch 2/5\n",
      "937/937 [==============================] - 3s 3ms/step - loss: 0.1350 - accuracy: 0.9613 - val_loss: 0.1142 - val_accuracy: 0.9665\n",
      "Epoch 3/5\n",
      "937/937 [==============================] - 3s 3ms/step - loss: 0.0940 - accuracy: 0.9724 - val_loss: 0.0959 - val_accuracy: 0.9716\n",
      "Epoch 4/5\n",
      "937/937 [==============================] - 3s 3ms/step - loss: 0.0714 - accuracy: 0.9792 - val_loss: 0.0882 - val_accuracy: 0.9713\n",
      "Epoch 5/5\n",
      "937/937 [==============================] - 3s 3ms/step - loss: 0.0562 - accuracy: 0.9834 - val_loss: 0.0778 - val_accuracy: 0.9757\n"
     ]
    },
    {
     "data": {
      "text/plain": [
       "<tensorflow.python.keras.callbacks.History at 0x28986f1f088>"
      ]
     },
     "execution_count": 98,
     "metadata": {},
     "output_type": "execute_result"
    }
   ],
   "source": [
    "model = tf.keras.Sequential([\n",
    "    tf.keras.layers.Flatten(input_shape=(28, 28)),\n",
    "    tf.keras.layers.Dense(units=128, activation='relu'),\n",
    "    tf.keras.layers.Dense(units=10, activation='softmax')\n",
    "])\n",
    "model.summary()\n",
    "model.compile(optimizer='adam', loss='sparse_categorical_crossentropy', metrics=['accuracy'])\n",
    "steps_per_epochs = train_images.shape[0] // 64\n",
    "model.fit(dataset_train, epochs=5, steps_per_epoch=steps_per_epochs,\n",
    "          validation_data=dataset_test, validation_steps=10000//64)"
   ]
  }
 ],
 "metadata": {
  "kernelspec": {
   "display_name": "Python 3",
   "language": "python",
   "name": "python3"
  },
  "language_info": {
   "codemirror_mode": {
    "name": "ipython",
    "version": 3
   },
   "file_extension": ".py",
   "mimetype": "text/x-python",
   "name": "python",
   "nbconvert_exporter": "python",
   "pygments_lexer": "ipython3",
   "version": "3.7.4"
  }
 },
 "nbformat": 4,
 "nbformat_minor": 4
}
