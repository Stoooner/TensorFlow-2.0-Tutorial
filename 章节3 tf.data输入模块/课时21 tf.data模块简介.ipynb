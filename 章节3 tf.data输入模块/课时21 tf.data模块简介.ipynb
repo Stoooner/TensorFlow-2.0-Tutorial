{
 "cells": [
  {
   "cell_type": "markdown",
   "metadata": {},
   "source": [
    "# 课时21 tf.data模型简介\n",
    "## 1. 理论简介\n",
    "tf.data.Dataset表示一系列元素，tf.data.Dateset模块中每个元素包含一个或者多个Tensor对象。例如在图片管道中，一个元素可能是单个训练样本，具有一对表示图片数据和标签的的张量。可以通过两种不同的方式来创建tf.data.Dataset:\n",
    ">1. 直接从Tensor创建Dataset，例如Dataset.from_tensor_slices()，当然numpy也是可以的，TensorFlow会自动的将其转换为Tensor；\n",
    ">2. 通过对一个或者多个tf.data.Dataset对象来使用变换(例如Dataset.zip)来创建Dataset。\n",
    "\n",
    "一个Dataset对象包含多个元素，每个元素的结构都是相同的。每个元素包含一个或者多个tf.Tensor对象，这些对象被称为组件。\n",
    "Dataset的属性由构成该Dataset的元素的属性映射得到，元素可以是单个张量、张量元祖，也可以是张量的嵌套元素。"
   ]
  },
  {
   "cell_type": "code",
   "execution_count": 1,
   "metadata": {},
   "outputs": [
    {
     "output_type": "stream",
     "name": "stdout",
     "text": [
      "Tensorflow Version: 2.4.0\n"
     ]
    }
   ],
   "source": [
    "import pandas as pd\n",
    "import numpy as np\n",
    "import seaborn as sb\n",
    "sb.set_style('darkgrid')\n",
    "import matplotlib.pyplot as plt\n",
    "import tensorflow as tf\n",
    "print('Tensorflow Version:', tf.__version__)"
   ]
  },
  {
   "cell_type": "markdown",
   "metadata": {
    "toc-hr-collapsed": true
   },
   "source": [
    "# 2. Dataset的建立\n",
    "## 2.1 一维数组的Dataset"
   ]
  },
  {
   "cell_type": "code",
   "execution_count": 2,
   "metadata": {},
   "outputs": [
    {
     "output_type": "execute_result",
     "data": {
      "text/plain": [
       "<TensorSliceDataset shapes: (), types: tf.int32>"
      ]
     },
     "metadata": {},
     "execution_count": 2
    }
   ],
   "source": [
    "dataset = tf.data.Dataset.from_tensor_slices([1, 2, 3, 4, 5, 6, 7])\n",
    "# tf.data.Dataset.zip((A, B))"
   ]
  },
  {
   "cell_type": "code",
   "execution_count": 3,
   "metadata": {},
   "outputs": [
    {
     "output_type": "stream",
     "name": "stdout",
     "text": [
      "1\n2\n3\n4\n5\n6\n7\n"
     ]
    }
   ],
   "source": [
    "# from_tensor_slices顾名思义就是将每个元素切片成一个组件，将其转换为tf.Tensor数据类型\n",
    "for elem in dataset:\n",
    "    # print(elem)\n",
    "    # .numpy()方法将每个tf.Tensor转换为numpy数据类型\n",
    "    print(elem.numpy())"
   ]
  },
  {
   "cell_type": "markdown",
   "metadata": {},
   "source": [
    "## 2.2 二维数组的Dataset"
   ]
  },
  {
   "cell_type": "code",
   "execution_count": 10,
   "metadata": {},
   "outputs": [
    {
     "data": {
      "text/plain": [
       "<TensorSliceDataset shapes: (2,), types: tf.int32>"
      ]
     },
     "execution_count": 10,
     "metadata": {},
     "output_type": "execute_result"
    }
   ],
   "source": [
    "# .from_tensor_slices要求每个数据的形状和组件是相同的\n",
    "dataset = tf.data.Dataset.from_tensor_slices([[1, 2], [3, 4], [5, 6]])\n",
    "dataset"
   ]
  },
  {
   "cell_type": "code",
   "execution_count": 11,
   "metadata": {},
   "outputs": [
    {
     "name": "stdout",
     "output_type": "stream",
     "text": [
      "tf.Tensor([1 2], shape=(2,), dtype=int32)\n",
      "tf.Tensor([3 4], shape=(2,), dtype=int32)\n",
      "tf.Tensor([5 6], shape=(2,), dtype=int32)\n"
     ]
    }
   ],
   "source": [
    "# from_tensor_slices顾名思义就是将每个元素切片成一个组件，将其转换为tf.Tensor数据类型\n",
    "for elem in dataset:\n",
    "    print(elem)\n",
    "    # .numpy()方法将每个tf.Tensor转换为numpy数据类型\n",
    "    # print(elem.numpy())"
   ]
  },
  {
   "cell_type": "markdown",
   "metadata": {},
   "source": [
    "## 2.3 使用字典的方式建立Dataset"
   ]
  },
  {
   "cell_type": "code",
   "execution_count": 6,
   "metadata": {},
   "outputs": [
    {
     "output_type": "execute_result",
     "data": {
      "text/plain": [
       "<TensorSliceDataset shapes: {a: (), b: (), c: ()}, types: {a: tf.int32, b: tf.int32, c: tf.int32}>"
      ]
     },
     "metadata": {},
     "execution_count": 6
    }
   ],
   "source": [
    "dataset_dic = tf.data.Dataset.from_tensor_slices({'a':[1, 2, 3, 4],\n",
    "                                                  'b':[5, 6, 7, 8],\n",
    "                                                  'c':[12, 13, 14, 15]})\n",
    "dataset_dic"
   ]
  },
  {
   "cell_type": "code",
   "execution_count": 7,
   "metadata": {},
   "outputs": [
    {
     "output_type": "stream",
     "name": "stdout",
     "text": [
      "{'a': <tf.Tensor: shape=(), dtype=int32, numpy=1>, 'b': <tf.Tensor: shape=(), dtype=int32, numpy=5>, 'c': <tf.Tensor: shape=(), dtype=int32, numpy=12>}\n{'a': <tf.Tensor: shape=(), dtype=int32, numpy=2>, 'b': <tf.Tensor: shape=(), dtype=int32, numpy=6>, 'c': <tf.Tensor: shape=(), dtype=int32, numpy=13>}\n{'a': <tf.Tensor: shape=(), dtype=int32, numpy=3>, 'b': <tf.Tensor: shape=(), dtype=int32, numpy=7>, 'c': <tf.Tensor: shape=(), dtype=int32, numpy=14>}\n{'a': <tf.Tensor: shape=(), dtype=int32, numpy=4>, 'b': <tf.Tensor: shape=(), dtype=int32, numpy=8>, 'c': <tf.Tensor: shape=(), dtype=int32, numpy=15>}\n"
     ]
    }
   ],
   "source": [
    "# from_tensor_slices顾名思义就是将每个元素切片成一个组件，将其转换为tf.Tensor数据类型\n",
    "for elem in dataset_dic:\n",
    "    print(elem)\n",
    "    # .numpy()方法将每个tf.Tensor转换为numpy数据类型\n",
    "    # print(elem.numpy())"
   ]
  },
  {
   "cell_type": "markdown",
   "metadata": {},
   "source": [
    "## 2.4 使用numpy数组的方式创建Dataset"
   ]
  },
  {
   "cell_type": "code",
   "execution_count": 63,
   "metadata": {},
   "outputs": [
    {
     "data": {
      "text/plain": [
       "<TensorSliceDataset shapes: (), types: tf.int32>"
      ]
     },
     "execution_count": 63,
     "metadata": {},
     "output_type": "execute_result"
    }
   ],
   "source": [
    "dataset = tf.data.Dataset.from_tensor_slices(np.array([1, 2, 3, 4, 5, 6, 7]))\n",
    "dataset"
   ]
  },
  {
   "cell_type": "code",
   "execution_count": 8,
   "metadata": {},
   "outputs": [
    {
     "output_type": "stream",
     "name": "stdout",
     "text": [
      "tf.Tensor(1, shape=(), dtype=int32)\ntf.Tensor(2, shape=(), dtype=int32)\ntf.Tensor(3, shape=(), dtype=int32)\ntf.Tensor(4, shape=(), dtype=int32)\n"
     ]
    }
   ],
   "source": [
    "# Dataset提供了一种叫.take()的方法可以指定从Dataset中取出指定数目的数据\n",
    "# 如果dataset是多个batch的话，take(n)则代表取出多少个batch\n",
    "for elem in dataset.take(4):\n",
    "    print(elem)\n",
    "    # .numpy()方法将每个tf.Tensor转换为numpy数据类型\n",
    "    # print(elem.numpy())"
   ]
  },
  {
   "cell_type": "markdown",
   "metadata": {},
   "source": [
    "# 3. 对数据进行乱序"
   ]
  },
  {
   "cell_type": "code",
   "execution_count": 9,
   "metadata": {},
   "outputs": [],
   "source": [
    "# buffer_size: A `tf.int64` scalar `tf.Tensor`, representing the number of elements from this dataset from which the new dataset will sample.\n",
    "# .repeat(count=3)代表对打乱了的数据集重复多少次\n",
    "# .batch(batch_size=4)代表每次batch生产的数据有多少个\n",
    "# 一般情况下会使用到所有的数据集，所以shuffle中的参数会默认为空，repeat中的也会为空(代表一直循环重复整个数据集)，让整个数据集无限重复下去\n",
    "# dataset = dataset.shuffle(buffer_size=7).repeat(count=3).batch(batch_size=4)\n",
    "dataset = dataset.shuffle(buffer_size=7).repeat(count=5).batch(batch_size=4)"
   ]
  },
  {
   "cell_type": "code",
   "execution_count": 11,
   "metadata": {},
   "outputs": [
    {
     "output_type": "stream",
     "name": "stdout",
     "text": [
      "[2 7 4 6]\n[1 3 5 4]\n[6 3 2 1]\n[5 7 7 4]\n[5 2 3 1]\n[6 5 2 1]\n[3 6 7 4]\n[5 1 4 3]\n[6 2 7]\n"
     ]
    }
   ],
   "source": [
    "for elem in dataset:\n",
    "    print(elem.numpy())"
   ]
  },
  {
   "cell_type": "markdown",
   "metadata": {},
   "source": [
    "# 4. 通过map函数对数据进行操作"
   ]
  },
  {
   "cell_type": "code",
   "execution_count": 14,
   "metadata": {},
   "outputs": [
    {
     "output_type": "stream",
     "name": "stdout",
     "text": [
      "[   6561 5764801     256   65536]\n[1679616       1  390625    6561]\n[1679616  390625 5764801   65536]\n[    256       1 1679616   65536]\n[5764801    6561  390625       1]\n[    256   65536    6561 5764801]\n[1679616       1     256  390625]\n[1679616  390625    6561 5764801]\n[    1   256 65536]\n"
     ]
    }
   ],
   "source": [
    "# dataset可以使用map对dataset进行快速处理，其中map中传入的是一个数据要进行处理的函数\n",
    "dataset = dataset.map(tf.square)\n",
    "for elem in dataset:\n",
    "    print(elem.numpy())"
   ]
  }
 ],
 "metadata": {
  "kernelspec": {
   "display_name": "Python 3",
   "language": "python",
   "name": "python3"
  },
  "language_info": {
   "codemirror_mode": {
    "name": "ipython",
    "version": 3
   },
   "file_extension": ".py",
   "mimetype": "text/x-python",
   "name": "python",
   "nbconvert_exporter": "python",
   "pygments_lexer": "ipython3",
   "version": "3.8.5-final"
  }
 },
 "nbformat": 4,
 "nbformat_minor": 4
}