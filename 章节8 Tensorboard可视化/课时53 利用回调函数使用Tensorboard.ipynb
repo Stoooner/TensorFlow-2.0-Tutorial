{
 "cells": [
  {
   "cell_type": "markdown",
   "metadata": {},
   "source": [
    "# 课时53 利用回调函数使用Tensorboard等"
   ]
  },
  {
   "cell_type": "code",
   "execution_count": 10,
   "metadata": {},
   "outputs": [
    {
     "output_type": "stream",
     "name": "stdout",
     "text": [
      "Tensorflow Version: 2.4.0\n"
     ]
    }
   ],
   "source": [
    "import pandas as pd\n",
    "import numpy as np\n",
    "import seaborn as sb\n",
    "sb.set_style('darkgrid')\n",
    "# pathlib相比os.path更好用\n",
    "import pathlib\n",
    "import random\n",
    "import matplotlib.pyplot as plt\n",
    "import tensorflow as tf\n",
    "import glob\n",
    "import datetime\n",
    "print('Tensorflow Version:', tf.__version__)"
   ]
  },
  {
   "cell_type": "code",
   "execution_count": 2,
   "metadata": {},
   "outputs": [
    {
     "output_type": "execute_result",
     "data": {
      "text/plain": [
       "<TensorSliceDataset shapes: ((28, 28, 1), ()), types: (tf.float32, tf.int64)>"
      ]
     },
     "metadata": {},
     "execution_count": 2
    }
   ],
   "source": [
    "# 加载MNIST数据集\n",
    "(train_images, train_labels), (test_images, test_labels) = tf.keras.datasets.mnist.load_data()\n",
    "# 以tf.Dataset形式加载数据(对于MNIST数据集，它是没有第三个维度Channel的，这里添加上它的第三个维度)\n",
    "train_images = tf.expand_dims(train_images, -1)\n",
    "# 由于tf.GradientTape()要求的数据类型是float，因此这里需要改变MNIST数据集图片的数据类型\n",
    "# 并在转换数据类型的过程中对图片数据进行归一化\n",
    "train_images = tf.cast(train_images/255, tf.float32)\n",
    "# 对于MNIST数据集的标签，数据类型是uint8(无符号8位)，这里为了方便计算，将其转换为int64类型\n",
    "train_labels = tf.cast(train_labels, tf.int64)\n",
    "dataset = tf.data.Dataset.from_tensor_slices((train_images, train_labels))\n",
    "\n",
    "test_images = tf.expand_dims(test_images, -1)\n",
    "test_images = tf.cast(test_images/255, tf.float32)\n",
    "test_labels = tf.cast(test_labels, tf.int64)\n",
    "test_dataset = tf.data.Dataset.from_tensor_slices((test_images, test_labels))\n",
    "test_dataset"
   ]
  },
  {
   "cell_type": "code",
   "execution_count": 3,
   "metadata": {},
   "outputs": [
    {
     "output_type": "execute_result",
     "data": {
      "text/plain": [
       "<BatchDataset shapes: ((None, 28, 28, 1), (None,)), types: (tf.float32, tf.int64)>"
      ]
     },
     "metadata": {},
     "execution_count": 3
    }
   ],
   "source": [
    "# 对数据进行打乱以及batch划分\n",
    "dataset = dataset.shuffle(buffer_size=60000).repeat().batch(batch_size=32)\n",
    "test_dataset = test_dataset.repeat().batch(batch_size=32)\n",
    "test_dataset"
   ]
  },
  {
   "cell_type": "code",
   "execution_count": 4,
   "metadata": {},
   "outputs": [],
   "source": [
    "# 建立模型\n",
    "model = tf.keras.Sequential([\n",
    "    tf.keras.layers.Conv2D(filters=16, kernel_size=[3, 3], activation='relu', input_shape=(28, 28, 1)),\n",
    "    tf.keras.layers.Conv2D(filters=32, kernel_size=[3, 3], activation='relu'),\n",
    "    tf.keras.layers.GlobalAveragePooling2D(),\n",
    "    tf.keras.layers.Dense(units=10, activation='softmax')])"
   ]
  },
  {
   "cell_type": "code",
   "execution_count": 5,
   "metadata": {},
   "outputs": [],
   "source": [
    "model.compile(optimizer='adam', \n",
    "              loss='sparse_categorical_crossentropy', \n",
    "              metrics=['accuracy'])"
   ]
  },
  {
   "cell_type": "code",
   "execution_count": 6,
   "metadata": {},
   "outputs": [],
   "source": [
    "# 定义Tensorboard的回调函数\n",
    "import os\n",
    "log_dir = os.path.join('logs', datetime.datetime.now().strftime('%Y%M%D-%H%M%S'))\n",
    "# log_dir = os.path.join('logs')\n",
    "# histogram_freq代表变量变化的直方图记录频次\n",
    "tensorboard_callback = tf.keras.callbacks.TensorBoard(log_dir=log_dir,                                                                     histogram_freq=1)"
   ]
  },
  {
   "cell_type": "code",
   "execution_count": 7,
   "metadata": {},
   "outputs": [],
   "source": [
    "# 我们将学习率衰减的规则逻辑写成一个函数\n",
    "def learning_rate_sche(epoch):\n",
    "    learning_rate = 0.2\n",
    "    if epoch > 2:\n",
    "        learning_rate = 0.02\n",
    "    if epoch > 10:\n",
    "        learning_rate = 0.01\n",
    "    if epoch > 20:\n",
    "        learning_rate = 0.005\n",
    "    # tf.summary.scalar用于记录某个标量值得变化\n",
    "    tf.summary.scalar('learning_rate', data=learning_rate, step=epoch)\n",
    "    return learning_rate"
   ]
  },
  {
   "cell_type": "code",
   "execution_count": 8,
   "metadata": {},
   "outputs": [],
   "source": [
    "# 将控制学习率的逻辑写成一个函数，然后将这个函数作为参数传入到callbacks.LearningRateScheduler()中\n",
    "# callbacks.LearningRateScheduler()会调用这个控制学习率的函数来改变学习率的速率\n",
    "learning_rate_callback = tf.keras.callbacks.LearningRateScheduler(learning_rate_sche)\n",
    "\n",
    "# 如果我们除了要按照逻辑对学习率进行改变，并且想要把学习率的变化情况给记录下来到磁盘上，则有下面：\n",
    "# 创建一个文件编写器file_write\n",
    "file_write = tf.summary.create_file_writer(logdir=os.path.join('logs/learning_rate/'))\n",
    "# 设置file_write为默认的文件编写器, 当我们tf.summary.scalar记录完毕某个标量值的变化后，\n",
    "# 它都会调用这个设置为默认的文件编写器的file_write把这个标量值得变化过程给写入磁盘\n",
    "file_write.set_as_default()"
   ]
  },
  {
   "cell_type": "code",
   "execution_count": 9,
   "metadata": {},
   "outputs": [
    {
     "output_type": "stream",
     "name": "stdout",
     "text": [
      "Epoch 1/3\n",
      "1875/1875 [==============================] - 87s 46ms/step - loss: 2.4417 - accuracy: 0.1005 - val_loss: 2.3208 - val_accuracy: 0.1010\n",
      "Epoch 2/3\n",
      "1875/1875 [==============================] - 93s 50ms/step - loss: 2.3266 - accuracy: 0.1020 - val_loss: 2.3206 - val_accuracy: 0.0975\n",
      "Epoch 3/3\n",
      "1875/1875 [==============================] - 83s 44ms/step - loss: 2.3267 - accuracy: 0.1027 - val_loss: 2.3170 - val_accuracy: 0.1010\n"
     ]
    },
    {
     "output_type": "execute_result",
     "data": {
      "text/plain": [
       "<tensorflow.python.keras.callbacks.History at 0x7fedfa8f9490>"
      ]
     },
     "metadata": {},
     "execution_count": 9
    }
   ],
   "source": [
    "model.fit(dataset, \n",
    "          epochs=3, \n",
    "          steps_per_epoch=60000//32, \n",
    "          validation_data=test_dataset,\n",
    "          validation_steps=10000//32,\n",
    "          callbacks=[tensorboard_callback, learning_rate_callback])\n",
    "# 在上面的函数中传入learning_rate_callback就能按照我们设定的逻辑对学习率进行改变了"
   ]
  },
  {
   "cell_type": "markdown",
   "metadata": {},
   "source": [
    "# 1. 在Notebook中加载Tensorboard"
   ]
  },
  {
   "cell_type": "code",
   "execution_count": 11,
   "metadata": {},
   "outputs": [],
   "source": [
    "%load_ext tensorboard\n",
    "%matplotlib inline"
   ]
  },
  {
   "cell_type": "code",
   "execution_count": 12,
   "metadata": {},
   "outputs": [
    {
     "output_type": "display_data",
     "data": {
      "text/plain": "ERROR: Failed to launch TensorBoard (exited with 2).\nContents of stderr:\nusage: tensorboard [-h] [--helpfull] [--logdir PATH] [--logdir_spec PATH_SPEC]\n                   [--host ADDR] [--bind_all] [--port PORT]\n                   [--purge_orphaned_data BOOL] [--db URI] [--db_import]\n                   [--inspect] [--version_tb] [--tag TAG] [--event_file PATH]\n                   [--path_prefix PATH] [--window_title TEXT]\n                   [--max_reload_threads COUNT] [--reload_interval SECONDS]\n                   [--reload_task TYPE] [--reload_multifile BOOL]\n                   [--reload_multifile_inactive_secs SECONDS]\n                   [--generic_data TYPE]\n                   [--samples_per_plugin SAMPLES_PER_PLUGIN]\n                   [--whatif-use-unsafe-custom-prediction YOUR_CUSTOM_PREDICT_FUNCTION.py]\n                   {serve,dev} ...\ntensorboard: error: invalid choice: 'Tensorboard可视化/logs/train' (choose from 'serve', 'dev')"
     },
     "metadata": {}
    }
   ],
   "source": [
    "%tensorboard --logdir 章节8 Tensorboard可视化/logs/train"
   ]
  },
  {
   "cell_type": "code",
   "execution_count": null,
   "metadata": {},
   "outputs": [],
   "source": [
    "# 在终端就直接执行下面的语句，但是需要注意的是，下面的语句中有中文，这是不对的，不能中文目录中\n",
    "tensorboard --logdir 章节8 Tensorboard可视化/logs/train"
   ]
  }
 ],
 "metadata": {
  "kernelspec": {
   "name": "python3",
   "display_name": "Python 3.8.5 64-bit ('anaconda3': virtualenv)",
   "metadata": {
    "interpreter": {
     "hash": "24a5e97bb7b9e502cdc0a8f9a9ca55a530ba47ae30463d9079b7951f45a334c6"
    }
   }
  },
  "language_info": {
   "codemirror_mode": {
    "name": "ipython",
    "version": 3
   },
   "file_extension": ".py",
   "mimetype": "text/x-python",
   "name": "python",
   "nbconvert_exporter": "python",
   "pygments_lexer": "ipython3",
   "version": "3.8.5-final"
  }
 },
 "nbformat": 4,
 "nbformat_minor": 4
}